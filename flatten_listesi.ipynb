{
 "cells": [
  {
   "cell_type": "code",
   "execution_count": 1,
   "id": "0159c97b-73fd-4366-81f4-4c8a74a25c29",
   "metadata": {},
   "outputs": [
    {
     "name": "stdout",
     "output_type": "stream",
     "text": [
      "Düzleştirilmiş Liste: [1, 'a', 'cat', 2, 3, 'dog', 4, 5]\n"
     ]
    }
   ],
   "source": [
    "# 🔧 Flatten (Listeyi Düzleştirme) Fonksiyonu\n",
    "def flatten(liste):\n",
    "    result = []\n",
    "    for item in liste:\n",
    "        if isinstance(item, list):\n",
    "            result.extend(flatten(item))  # iç listeyi aç\n",
    "        else:\n",
    "            result.append(item)  # düz elemanları direkt ekle\n",
    "    return result\n",
    "\n",
    "# 📥 Girdi verisi\n",
    "veri = [1, 'a', ['cat', 2], [[[3]], 'dog'], 4, 5]\n",
    "\n",
    "# 📤 Fonksiyon çağrısı ve sonuç\n",
    "sonuc = flatten(veri)\n",
    "\n",
    "# 🖨️ Ekrana Yazdır\n",
    "print(\"Düzleştirilmiş Liste:\", sonuc)\n"
   ]
  },
  {
   "cell_type": "code",
   "execution_count": null,
   "id": "8c8d2d21-258f-4e2e-94e4-87670034a0b0",
   "metadata": {},
   "outputs": [],
   "source": []
  }
 ],
 "metadata": {
  "kernelspec": {
   "display_name": "Python 3 (ipykernel)",
   "language": "python",
   "name": "python3"
  },
  "language_info": {
   "codemirror_mode": {
    "name": "ipython",
    "version": 3
   },
   "file_extension": ".py",
   "mimetype": "text/x-python",
   "name": "python",
   "nbconvert_exporter": "python",
   "pygments_lexer": "ipython3",
   "version": "3.12.4"
  }
 },
 "nbformat": 4,
 "nbformat_minor": 5
}
